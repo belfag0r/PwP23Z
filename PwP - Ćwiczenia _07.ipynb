{
 "cells": [
  {
   "cell_type": "markdown",
   "id": "ed4b4e11",
   "metadata": {},
   "source": [
    "# Random Math Time"
   ]
  },
  {
   "cell_type": "markdown",
   "id": "f985a7db",
   "metadata": {},
   "source": [
    "Zapoznamy się z modułami biblioteki standardowej:\n",
    "\n",
    "* random, math, time\n",
    "\n",
    "<br>\n",
    "\n",
    "\n",
    "A w szczególności z funkcjami:\n",
    "\n",
    "*  RANDOM\n",
    "    * randrange, randint, choice, choices, sample, random, uniform, shuffle\n",
    "\n",
    "<br>\n",
    "\n",
    "* MATH\n",
    "    * gcd, lcm, perm, prod, exp, log, pow, sqrt, cos, sin\n",
    "    \n",
    "<br>\n",
    "\n",
    "* TIME\n",
    "    * sleep, time, ctime, perf_counter\n",
    "\n",
    "\n",
    "<br>\n"
   ]
  },
  {
   "cell_type": "markdown",
   "id": "be8a839a",
   "metadata": {},
   "source": [
    "## Random"
   ]
  },
  {
   "cell_type": "markdown",
   "id": "7635a936",
   "metadata": {},
   "source": [
    "Moduł *random* zawiera funkcjonalność generowania liczb pseudolosowych z różnych rozkładów. Wykorzystywany jest w tym algorytm *Mersenne Twister*."
   ]
  },
  {
   "cell_type": "code",
   "execution_count": 11,
   "id": "3a414935",
   "metadata": {},
   "outputs": [
    {
     "data": {
      "text/plain": [
       "5"
      ]
     },
     "execution_count": 11,
     "metadata": {},
     "output_type": "execute_result"
    }
   ],
   "source": [
    "import random\n",
    "\n",
    "# ziarno - stan wewnętrzny generatora (domyślnie czas systemowy)\n",
    "random.seed(7122023)\n",
    "\n",
    "# 'losowa' liczba całkowita z przedziału domkniętego [a, b]\n",
    "random.randint(0, 5)"
   ]
  },
  {
   "cell_type": "code",
   "execution_count": 15,
   "id": "4c4f10f0",
   "metadata": {},
   "outputs": [
    {
     "data": {
      "text/plain": [
       "'Janusz'"
      ]
     },
     "execution_count": 15,
     "metadata": {},
     "output_type": "execute_result"
    }
   ],
   "source": [
    "studenci = [\"Janusz\", \"Bożydar\", \"Ola\"]\n",
    "\n",
    "# 'losowy' element z sekwencji (do oblania)\n",
    "random.choice(studenci)"
   ]
  },
  {
   "cell_type": "code",
   "execution_count": 25,
   "id": "87dc8909",
   "metadata": {},
   "outputs": [
    {
     "name": "stdout",
     "output_type": "stream",
     "text": [
      "Zadanie 1.  psji jlpfu dhqeyvgo cfqvq x httmzd iwnjgtv pyyb bdmrndmh bvr trcuwe ffegamcoas g knodrtbkek dhc zvxjwmivd zmdvdjdl wnpael lgx.\n"
     ]
    }
   ],
   "source": [
    "import string\n",
    "\n",
    "# losowanie k elementów z populacji z zwracaniem, możliwe podanie wag\n",
    "tresc_zadania_dla_studentow = \" \".join([\"\".join(random.choices(string.ascii_lowercase, k=random.randint(1,10))) \n",
    "                                        for i in range(random.randint(10, 20))])\n",
    "\n",
    "print(\"Zadanie 1. \", tresc_zadania_dla_studentow + \".\")"
   ]
  },
  {
   "cell_type": "code",
   "execution_count": 31,
   "id": "af9b3244",
   "metadata": {},
   "outputs": [
    {
     "data": {
      "text/plain": [
       "['Janusz', 'Bożydar']"
      ]
     },
     "execution_count": 31,
     "metadata": {},
     "output_type": "execute_result"
    }
   ],
   "source": [
    "# zwraca listę k unikalnych elementów z sekwencji (bez zwracania)\n",
    "\n",
    "random.sample(studenci, k=2)"
   ]
  },
  {
   "cell_type": "code",
   "execution_count": 38,
   "id": "c8de3811",
   "metadata": {},
   "outputs": [
    {
     "name": "stdout",
     "output_type": "stream",
     "text": [
      "90\n"
     ]
    }
   ],
   "source": [
    "# 'losowy' element z range\n",
    "# choice(range(start, stop, step))\n",
    "\n",
    "ocena_testu = random.randrange(0, 100, 5)\n",
    "print(ocena_testu)"
   ]
  },
  {
   "cell_type": "code",
   "execution_count": 39,
   "id": "70d07d9c",
   "metadata": {},
   "outputs": [
    {
     "data": {
      "text/plain": [
       "0.7835594414944198"
      ]
     },
     "execution_count": 39,
     "metadata": {},
     "output_type": "execute_result"
    }
   ],
   "source": [
    "# z przedizału [0, 1)\n",
    "\n",
    "random.random()"
   ]
  },
  {
   "cell_type": "code",
   "execution_count": 40,
   "id": "fa8c89e0",
   "metadata": {},
   "outputs": [
    {
     "data": {
      "text/plain": [
       "14.8898895776908"
      ]
     },
     "execution_count": 40,
     "metadata": {},
     "output_type": "execute_result"
    }
   ],
   "source": [
    "random.uniform(10, 20)"
   ]
  },
  {
   "cell_type": "code",
   "execution_count": 42,
   "id": "05b9bb0c",
   "metadata": {},
   "outputs": [
    {
     "name": "stdout",
     "output_type": "stream",
     "text": [
      "['Janusz', 'Ola', 'Bożydar']\n",
      "['Janusz', 'Bożydar', 'Ola']\n"
     ]
    }
   ],
   "source": [
    "# miesza elementy listy in-place, zwraca None\n",
    "\n",
    "print(studenci)\n",
    "random.shuffle(studenci)\n",
    "print(studenci)"
   ]
  },
  {
   "cell_type": "markdown",
   "id": "4c667787",
   "metadata": {},
   "source": [
    "## Math"
   ]
  },
  {
   "cell_type": "markdown",
   "id": "963309e0",
   "metadata": {},
   "source": [
    "Funkcje matematyczne, ale nie dla liczb urojonych.. (skromna selekcja)"
   ]
  },
  {
   "cell_type": "code",
   "execution_count": 52,
   "id": "e9251ccf",
   "metadata": {},
   "outputs": [
    {
     "data": {
      "text/plain": [
       "1"
      ]
     },
     "execution_count": 52,
     "metadata": {},
     "output_type": "execute_result"
    }
   ],
   "source": [
    "import math\n",
    "\n",
    "# Największy wspólny dzielnik, przydatny w zadaniach algorytmicznych..\n",
    "math.gcd(69, 420, 666, 2137, 80085)"
   ]
  },
  {
   "cell_type": "code",
   "execution_count": 51,
   "id": "ff2bfe3c",
   "metadata": {},
   "outputs": [
    {
     "data": {
      "text/plain": [
       "420"
      ]
     },
     "execution_count": 51,
     "metadata": {},
     "output_type": "execute_result"
    }
   ],
   "source": [
    "# Najmniejsza wspólna wielokrotność\n",
    "\n",
    "math.lcm(2, 3, 4, 5, 7)"
   ]
  },
  {
   "cell_type": "code",
   "execution_count": 57,
   "id": "d90d50c7",
   "metadata": {},
   "outputs": [
    {
     "data": {
      "text/plain": [
       "20"
      ]
     },
     "execution_count": 57,
     "metadata": {},
     "output_type": "execute_result"
    }
   ],
   "source": [
    "# liczba wyboru k z n bez powtórzeń (n! / (n - k)!)\n",
    "\n",
    "math.perm(5, 2)"
   ]
  },
  {
   "cell_type": "code",
   "execution_count": 59,
   "id": "f4d48731",
   "metadata": {},
   "outputs": [
    {
     "data": {
      "text/plain": [
       "30"
      ]
     },
     "execution_count": 59,
     "metadata": {},
     "output_type": "execute_result"
    }
   ],
   "source": [
    "# iloczyn z kolekcji\n",
    "\n",
    "math.prod([2, 3, 5])"
   ]
  },
  {
   "cell_type": "code",
   "execution_count": 61,
   "id": "2c4b2445",
   "metadata": {},
   "outputs": [
    {
     "data": {
      "text/plain": [
       "20.085536923187668"
      ]
     },
     "execution_count": 61,
     "metadata": {},
     "output_type": "execute_result"
    }
   ],
   "source": [
    "# e^x\n",
    "\n",
    "math.exp(3)"
   ]
  },
  {
   "cell_type": "code",
   "execution_count": 66,
   "id": "aaee7f44",
   "metadata": {},
   "outputs": [
    {
     "data": {
      "text/plain": [
       "3.0"
      ]
     },
     "execution_count": 66,
     "metadata": {},
     "output_type": "execute_result"
    }
   ],
   "source": [
    "# log a o podstawie b (domyślnie math.e)\n",
    "\n",
    "math.log(8, 2)"
   ]
  },
  {
   "cell_type": "code",
   "execution_count": 67,
   "id": "d2f7f60f",
   "metadata": {},
   "outputs": [
    {
     "data": {
      "text/plain": [
       "8.0"
      ]
     },
     "execution_count": 67,
     "metadata": {},
     "output_type": "execute_result"
    }
   ],
   "source": [
    "# x**y\n",
    "\n",
    "math.pow(2, 3)"
   ]
  },
  {
   "cell_type": "code",
   "execution_count": 68,
   "id": "82c5d6ba",
   "metadata": {},
   "outputs": [
    {
     "data": {
      "text/plain": [
       "2.23606797749979"
      ]
     },
     "execution_count": 68,
     "metadata": {},
     "output_type": "execute_result"
    }
   ],
   "source": [
    "# x^(1/2)\n",
    "\n",
    "math.sqrt(5)"
   ]
  },
  {
   "cell_type": "code",
   "execution_count": 71,
   "id": "05dcf024",
   "metadata": {},
   "outputs": [
    {
     "data": {
      "text/plain": [
       "0.8414709848078965"
      ]
     },
     "execution_count": 71,
     "metadata": {},
     "output_type": "execute_result"
    }
   ],
   "source": [
    "# sin(x) w radianach\n",
    "\n",
    "math.sin(1)"
   ]
  },
  {
   "cell_type": "markdown",
   "id": "b11cce03",
   "metadata": {},
   "source": [
    "## Time"
   ]
  },
  {
   "cell_type": "markdown",
   "id": "872593bc",
   "metadata": {},
   "source": [
    "Funkcje związane z *czasem*.. mogą zależeć od systemu operacyjnego. Czas mierzony jest w sekundach od początku *epoki*."
   ]
  },
  {
   "cell_type": "code",
   "execution_count": 1,
   "id": "e8666d7c",
   "metadata": {},
   "outputs": [
    {
     "name": "stdout",
     "output_type": "stream",
     "text": [
      "1701958848.76081\n",
      "Thu Dec  7 15:20:48 2023\n"
     ]
    }
   ],
   "source": [
    "import time\n",
    "\n",
    "t = time.time()\n",
    "print(t)\n",
    "\n",
    "# konwersja do czasu lokalnego\n",
    "print(time.ctime(t))"
   ]
  },
  {
   "cell_type": "code",
   "execution_count": 2,
   "id": "d7e901eb",
   "metadata": {},
   "outputs": [
    {
     "name": "stdout",
     "output_type": "stream",
     "text": [
      "time.struct_time(tm_year=1970, tm_mon=1, tm_mday=1, tm_hour=0, tm_min=0, tm_sec=0, tm_wday=3, tm_yday=1, tm_isdst=0)\n"
     ]
    }
   ],
   "source": [
    "# data pierwszej epoki\n",
    "\n",
    "print(time.gmtime(0))"
   ]
  },
  {
   "cell_type": "code",
   "execution_count": 76,
   "id": "1b67e45e",
   "metadata": {},
   "outputs": [
    {
     "name": "stdout",
     "output_type": "stream",
     "text": [
      "obliczenia wykonane w 5.000271600001724 sekund!\n"
     ]
    }
   ],
   "source": [
    "# pomiar czasu do benchmarkingu / można również perf_counter_ns() dla większej precyzji\n",
    "\n",
    "t0 = time.perf_counter()\n",
    "\n",
    "# bezczynność w sekundach\n",
    "time.sleep(5)\n",
    "\n",
    "t1 = time.perf_counter()\n",
    "\n",
    "print(f\"obliczenia wykonane w {t1-t0} sekund!\")"
   ]
  },
  {
   "cell_type": "markdown",
   "id": "08ee72f0",
   "metadata": {},
   "source": [
    "### Naiwan metoda szukania miejsc zerowych wielomianów"
   ]
  },
  {
   "cell_type": "markdown",
   "id": "044c6a37",
   "metadata": {},
   "source": [
    "Metoda **Fixed-point iteration**, w ogólności najpewniej wybuchnie. Można to przetestować podając inne początkowe wartości x. Najpierw przekształcamy równanie do postaci x = *wyrażenie*. Następnie ustawiamy x na *coś* i mocno trzymamy kciuki. Procedurę zatrzymujemy gdy osiągniemy dopuszczony poziom błędu.\n",
    "\n",
    "x<sub>n+1</sub> = f(x<sub>n</sub>)"
   ]
  },
  {
   "cell_type": "code",
   "execution_count": 85,
   "id": "a03a0953",
   "metadata": {},
   "outputs": [
    {
     "name": "stdout",
     "output_type": "stream",
     "text": [
      "Miejsce zerowe w x = 1.00 znalezione w 50 iteracjach\n"
     ]
    }
   ],
   "source": [
    "def f(x):\n",
    "    # równanie 2*x**2 - 5*x + 3 = 0 --> x = (2*x**2 + 3)/5\n",
    "    return (2*x**2 + 3)/5\n",
    "\n",
    "x = 0 # zgadujemy\n",
    "\n",
    "for i in range(1, 101):\n",
    "    new_x = f(x)\n",
    "    \n",
    "    if abs(new_x - x) < 0.000001:\n",
    "        break\n",
    "        \n",
    "    x = new_x\n",
    "    \n",
    "print(f\"Miejsce zerowe w x = {new_x:.2f} znalezione w {i} iteracjach\")"
   ]
  },
  {
   "cell_type": "markdown",
   "id": "e560a403",
   "metadata": {},
   "source": [
    "**Zadanie 1.** Napisz funkcję generującą 'losowe' sekwencje DNA o zadanej długości."
   ]
  },
  {
   "cell_type": "markdown",
   "id": "81041c8d",
   "metadata": {},
   "source": [
    "**Zadanie 2.** Zaimplementuj metodę Newtona - Raphsona wyszukiwania miejsc zerowych wielomianów. Kod może wyglądać tak samo co w przypadku metody Fixed-point iteration za wyjątkiem sposobu obliczania nowego x. Teraz należy obliczać go zogdnie z poniższym wzorem:\n",
    "\n",
    "**x<sub>n+1</sub> = x<sub>n</sub> - f(x<sub>n</sub>) / f'(x<sub>n</sub>)**\n",
    "\n",
    "Obliczenia wykonaj dla funkcji f(x) = 2*x**2 - 5*x + 3."
   ]
  },
  {
   "cell_type": "markdown",
   "id": "10fd3e11",
   "metadata": {},
   "source": [
    "**Zadanie 3.** Zaimplementuj klasę *LinearRegression* (inicjalizator powinien przyjmować dwie listy - X i Y) posiadającą metody:\n",
    "\n",
    "* *fit* obliczjącą wartości parametrów a i b równania liniowego:\n",
    "\n",
    "<br>\n",
    "\n",
    "$\\Huge a = \\frac{\\bar{y} \\sum x _{i} ^{2} - \\bar{x} \\sum x _{i} y _{i}}{\\sum x _{i} ^{2} - n\\bar{x} ^{2}}$\n",
    "\n",
    "<br>\n",
    "\n",
    "$\\Huge b = \\frac{\\sum x _{i} y _{i} - \\bar{x} \\sum y _{i}}{\\sum x _{i} ^{2} - n\\bar{x} ^{2}}$\n",
    "\n",
    "<br>\n",
    "\n",
    "gdzie $\\bar{x}$ i $\\bar{y}$ to średnie list X i Y.\n",
    "\n",
    "* metodę predict (obliczającą z równania y dla x)\n",
    "\n",
    "* metodę calc_r_squared obliczającą współczynnik determinacji $R^{2}$ dany wzorem:\n",
    "\n",
    "$\\Huge R ^{2} = \\frac{\\sum (\\hat{y} _{i} - \\bar{y}) ^{2}}{\\sum (y _{i} - \\bar{y}) ^{2}}$\n",
    "\n",
    "gdzie $y _{i}$ to i-ta obserwacja, $\\bar{y}$ to średnia Y, a $\\hat{y} _{i}$ to wartość przewidzaina dla i-tego x.\n",
    "\n",
    "Następnie zaimplementuj funkcję pomocniczą generującą syntetyczne dane np. poprzez dodawanie losowych wartości do y obliczonych dla zadanej funkcji liniowej dla losowych x-ów z zadanego przedziału.."
   ]
  }
 ],
 "metadata": {
  "kernelspec": {
   "display_name": "Python 3 (ipykernel)",
   "language": "python",
   "name": "python3"
  },
  "language_info": {
   "codemirror_mode": {
    "name": "ipython",
    "version": 3
   },
   "file_extension": ".py",
   "mimetype": "text/x-python",
   "name": "python",
   "nbconvert_exporter": "python",
   "pygments_lexer": "ipython3",
   "version": "3.11.4"
  }
 },
 "nbformat": 4,
 "nbformat_minor": 5
}
