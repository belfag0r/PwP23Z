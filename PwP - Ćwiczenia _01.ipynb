{
 "cells": [
  {
   "cell_type": "markdown",
   "id": "d1630dc5",
   "metadata": {},
   "source": [
    "# Język programowania Python"
   ]
  },
  {
   "cell_type": "markdown",
   "id": "2626b15e",
   "metadata": {},
   "source": [
    "Python jest interpretowanym, wysokopoziomowym językiem programowania o (silnym) dynamicznym typowaniu (oraz automatycznej dealokacji pamięci) ogólnego przeznaczenia. Wspiera programowanie w różnych paradygmatach (proceduralne, obiektowe, funkcyjne itd.)."
   ]
  },
  {
   "cell_type": "code",
   "execution_count": 1,
   "id": "ca3b64b4",
   "metadata": {},
   "outputs": [
    {
     "name": "stdout",
     "output_type": "stream",
     "text": [
      "The Zen of Python, by Tim Peters\n",
      "\n",
      "Beautiful is better than ugly.\n",
      "Explicit is better than implicit.\n",
      "Simple is better than complex.\n",
      "Complex is better than complicated.\n",
      "Flat is better than nested.\n",
      "Sparse is better than dense.\n",
      "Readability counts.\n",
      "Special cases aren't special enough to break the rules.\n",
      "Although practicality beats purity.\n",
      "Errors should never pass silently.\n",
      "Unless explicitly silenced.\n",
      "In the face of ambiguity, refuse the temptation to guess.\n",
      "There should be one-- and preferably only one --obvious way to do it.\n",
      "Although that way may not be obvious at first unless you're Dutch.\n",
      "Now is better than never.\n",
      "Although never is often better than *right* now.\n",
      "If the implementation is hard to explain, it's a bad idea.\n",
      "If the implementation is easy to explain, it may be a good idea.\n",
      "Namespaces are one honking great idea -- let's do more of those!\n"
     ]
    }
   ],
   "source": [
    "import this"
   ]
  },
  {
   "cell_type": "markdown",
   "id": "8f8385b0",
   "metadata": {},
   "source": [
    "## Podstawy składni i semantyki\n",
    "\n",
    "Składnia odnosi się do zasad programowania, na podstawie których język będzie pisany i interpretowany, podczas gdy semantyka to znaczenie zapisanych wyrażeń."
   ]
  },
  {
   "cell_type": "markdown",
   "id": "46519ee2",
   "metadata": {},
   "source": [
    "### Składnia"
   ]
  },
  {
   "cell_type": "markdown",
   "id": "c813efdc",
   "metadata": {},
   "source": [
    "#### Indentacja\n",
    "W Pythonie bloki kodu wyznaczane są wcięciami, do których konstrukcji musi być użyty zawsze ten sam znak (spacja lub tabulator) i które muszą mieć ten sam rozmiar. Zgodnie z konwencją jeden poziom wcięcia to 4 spacje."
   ]
  },
  {
   "cell_type": "code",
   "execution_count": 47,
   "id": "e48072de",
   "metadata": {
    "scrolled": true
   },
   "outputs": [
    {
     "name": "stdout",
     "output_type": "stream",
     "text": [
      "1\n",
      "2\n",
      "3\n"
     ]
    }
   ],
   "source": [
    "c = 0\n",
    "\n",
    "for i in range(3):\n",
    "    c += 1\n",
    "    print(c)"
   ]
  },
  {
   "cell_type": "code",
   "execution_count": 43,
   "id": "08348ea4",
   "metadata": {},
   "outputs": [
    {
     "name": "stdout",
     "output_type": "stream",
     "text": [
      "0 0\n",
      "0 1\n",
      "1 0\n",
      "1 1\n"
     ]
    }
   ],
   "source": [
    "for i in range(2):\n",
    "    for j in range(2):\n",
    "        print(i, j)"
   ]
  },
  {
   "cell_type": "markdown",
   "id": "0519e19c",
   "metadata": {},
   "source": [
    "Wewnątrz linijki spacje są obojętne, ale po \":\" musi pojawić się wcięcie (chyba że występuje tylko jeden poziom)."
   ]
  },
  {
   "cell_type": "code",
   "execution_count": 42,
   "id": "57af3d30",
   "metadata": {},
   "outputs": [
    {
     "name": "stdout",
     "output_type": "stream",
     "text": [
      "3\n"
     ]
    }
   ],
   "source": [
    "x             =        1    +                2\n",
    "print      (x)"
   ]
  },
  {
   "cell_type": "code",
   "execution_count": 44,
   "id": "e1aca905",
   "metadata": {
    "scrolled": true
   },
   "outputs": [
    {
     "ename": "SyntaxError",
     "evalue": "invalid syntax (1469217892.py, line 1)",
     "output_type": "error",
     "traceback": [
      "\u001b[1;36m  Cell \u001b[1;32mIn[44], line 1\u001b[1;36m\u001b[0m\n\u001b[1;33m    for i in range(2): for j in range(2): print(i, j)\u001b[0m\n\u001b[1;37m                       ^\u001b[0m\n\u001b[1;31mSyntaxError\u001b[0m\u001b[1;31m:\u001b[0m invalid syntax\n"
     ]
    }
   ],
   "source": [
    "for i in range(2): for j in range(2): print(i, j)"
   ]
  },
  {
   "cell_type": "code",
   "execution_count": 48,
   "id": "c1894377",
   "metadata": {},
   "outputs": [
    {
     "name": "stdout",
     "output_type": "stream",
     "text": [
      "3\n"
     ]
    }
   ],
   "source": [
    "c = 0\n",
    "\n",
    "for i in range(3): c += 1\n",
    "print(c)"
   ]
  },
  {
   "cell_type": "markdown",
   "id": "aaa4ee41",
   "metadata": {},
   "source": [
    "#### Słowa kluczowe / zastrzeżone"
   ]
  },
  {
   "cell_type": "code",
   "execution_count": 17,
   "id": "b45f6388",
   "metadata": {},
   "outputs": [
    {
     "name": "stdout",
     "output_type": "stream",
     "text": [
      "35\n"
     ]
    }
   ],
   "source": [
    "import keyword\n",
    "\n",
    "# funkcja len() zwraca długość kolekcji\n",
    "print(len(keyword.kwlist))"
   ]
  },
  {
   "cell_type": "code",
   "execution_count": 11,
   "id": "c2ffddab",
   "metadata": {},
   "outputs": [
    {
     "name": "stdout",
     "output_type": "stream",
     "text": [
      "\n",
      "Here is a list of the Python keywords.  Enter any keyword to get more help.\n",
      "\n",
      "False               class               from                or\n",
      "None                continue            global              pass\n",
      "True                def                 if                  raise\n",
      "and                 del                 import              return\n",
      "as                  elif                in                  try\n",
      "assert              else                is                  while\n",
      "async               except              lambda              with\n",
      "await               finally             nonlocal            yield\n",
      "break               for                 not                 \n",
      "\n"
     ]
    }
   ],
   "source": [
    "help(\"keywords\")"
   ]
  },
  {
   "cell_type": "code",
   "execution_count": 16,
   "id": "6b38cbbf",
   "metadata": {},
   "outputs": [
    {
     "name": "stdout",
     "output_type": "stream",
     "text": [
      "The \"pass\" statement\n",
      "********************\n",
      "\n",
      "   pass_stmt ::= \"pass\"\n",
      "\n",
      "\"pass\" is a null operation — when it is executed, nothing happens. It\n",
      "is useful as a placeholder when a statement is required syntactically,\n",
      "but no code needs to be executed, for example:\n",
      "\n",
      "   def f(arg): pass    # a function that does nothing (yet)\n",
      "\n",
      "   class C: pass       # a class with no methods (yet)\n",
      "\n"
     ]
    }
   ],
   "source": [
    "help(\"pass\")"
   ]
  },
  {
   "cell_type": "code",
   "execution_count": null,
   "id": "be198111",
   "metadata": {},
   "outputs": [],
   "source": [
    "# hasztag pozwala na wprowadzenie komentarza jednolinijkowego\n",
    "\n",
    "\"\"\"\n",
    "tekst pomiędzy\n",
    "zwielokrotnionymi cudzysłowami\n",
    "będzie traktowany jako 'komentarz'\n",
    "tzw. docstring\n",
    "\n",
    "\"\"\""
   ]
  },
  {
   "cell_type": "code",
   "execution_count": 56,
   "id": "5a143c04",
   "metadata": {},
   "outputs": [
    {
     "name": "stdout",
     "output_type": "stream",
     "text": [
      "Prints the values to a stream, or to sys.stdout by default.\n",
      "\n",
      "  sep\n",
      "    string inserted between values, default a space.\n",
      "  end\n",
      "    string appended after the last value, default a newline.\n",
      "  file\n",
      "    a file-like object (stream); defaults to the current sys.stdout.\n",
      "  flush\n",
      "    whether to forcibly flush the stream.\n"
     ]
    }
   ],
   "source": [
    "# aby wyświetlić docstring\n",
    "print(print.__doc__)"
   ]
  },
  {
   "cell_type": "markdown",
   "id": "d9aa206c",
   "metadata": {},
   "source": [
    "### Semantyka"
   ]
  },
  {
   "cell_type": "markdown",
   "id": "95d68fed",
   "metadata": {},
   "source": [
    "W Pythonie wszystko jest obiektem – również typy podstawowe. Typ zmiennej x możemy sprawdizć kożystając z funkcji type()."
   ]
  },
  {
   "cell_type": "code",
   "execution_count": 133,
   "id": "1503aa68",
   "metadata": {},
   "outputs": [
    {
     "name": "stdout",
     "output_type": "stream",
     "text": [
      "<class 'int'>\n"
     ]
    }
   ],
   "source": [
    "x = 1\n",
    "\n",
    "print(type(x))"
   ]
  },
  {
   "cell_type": "code",
   "execution_count": 50,
   "id": "879ee859",
   "metadata": {},
   "outputs": [
    {
     "data": {
      "text/plain": [
       "['__all__',\n",
       " '__builtins__',\n",
       " '__cached__',\n",
       " '__doc__',\n",
       " '__file__',\n",
       " '__loader__',\n",
       " '__name__',\n",
       " '__package__',\n",
       " '__spec__',\n",
       " 'iskeyword',\n",
       " 'issoftkeyword',\n",
       " 'kwlist',\n",
       " 'softkwlist']"
      ]
     },
     "execution_count": 50,
     "metadata": {},
     "output_type": "execute_result"
    }
   ],
   "source": [
    "# funkcja dir() zwraca listę atrybutów oraz metod obiektu\n",
    "dir(keyword)"
   ]
  },
  {
   "cell_type": "markdown",
   "id": "f7a67d01",
   "metadata": {},
   "source": [
    "Każdy obiekt ma trzy właściwości:\n",
    "\n",
    "  * tożsamość id(x)\n",
    "  * typ type(x)\n",
    "  * wartość x\n",
    "    \n",
    "Tożsamość sprawdzamy operatorem <em>is</em>\n",
    "\n",
    "Równość wartości sprawdzamy operatorem <em>==</em>"
   ]
  },
  {
   "cell_type": "markdown",
   "id": "5c3faa0f",
   "metadata": {},
   "source": [
    "Deklarowane przez nas zmienne to wskaźniki, przechowują adres w pamięci."
   ]
  },
  {
   "cell_type": "code",
   "execution_count": 36,
   "id": "35634735",
   "metadata": {},
   "outputs": [
    {
     "name": "stdout",
     "output_type": "stream",
     "text": [
      "1693017512592\n",
      "1693017512560\n",
      "True\n",
      "False\n"
     ]
    }
   ],
   "source": [
    "x = 100000\n",
    "y = 100000\n",
    "\n",
    "print(id(x))\n",
    "print(id(y))\n",
    "\n",
    "print(x == y)\n",
    "print(x is y)"
   ]
  },
  {
   "cell_type": "markdown",
   "id": "4f6e2c5e",
   "metadata": {},
   "source": [
    "W pewnych przypadkach może nas jednak spotkać zaskoczenie.. jest to wynikiem optymalizacji użycia pamięci dla małych liczb (-5 do 256) oraz krótkiego tekstu bez spacji."
   ]
  },
  {
   "cell_type": "code",
   "execution_count": 37,
   "id": "29b48af7",
   "metadata": {},
   "outputs": [
    {
     "name": "stdout",
     "output_type": "stream",
     "text": [
      "140719907771176\n",
      "140719907771176\n",
      "True\n",
      "True\n"
     ]
    }
   ],
   "source": [
    "x = 1\n",
    "y = 1\n",
    "\n",
    "print(id(x))\n",
    "print(id(y))\n",
    "\n",
    "print(x == y)\n",
    "print(x is y)"
   ]
  },
  {
   "cell_type": "markdown",
   "id": "766a8e8e",
   "metadata": {},
   "source": [
    "### Wbudowane typy zmiennych"
   ]
  },
  {
   "cell_type": "markdown",
   "id": "d44e4cfa",
   "metadata": {},
   "source": [
    "<img src=\"typywp.png\">"
   ]
  },
  {
   "cell_type": "markdown",
   "id": "1ce93644",
   "metadata": {},
   "source": [
    "#### Podstawowe operacje na typach liczbowych"
   ]
  },
  {
   "cell_type": "code",
   "execution_count": 53,
   "id": "02322179",
   "metadata": {},
   "outputs": [],
   "source": [
    "# integer (zmienna liczbowa całkowita)\n",
    "i = 255\n",
    "# alternatywne notacje\n",
    "i = 0xff # szesnastkowa, hexadecimal\n",
    "i = 0o377 # ósemkowa, octal\n",
    "i = 0b11111111 # dwójkowa, binary\n",
    "\n",
    "# float (zmienna zmiennoprzecinkowa)\n",
    "f = 0.25\n",
    "# alternatywna notacja eksponencjalna\n",
    "f = 2.5e-01 # exponent notation\n",
    "\n",
    "# complex (liczby zespolone)\n",
    "c = 3.5 + 0.5j\n",
    "\n",
    "# zmienna nieokreślona None\n",
    "x = None"
   ]
  },
  {
   "cell_type": "code",
   "execution_count": 54,
   "id": "f7e7032c",
   "metadata": {},
   "outputs": [],
   "source": [
    "# operacje matematyczne\n",
    "\n",
    "y = i + 1 # dodawanie\n",
    "y = i - 1 # odejmowanie\n",
    "y = i * 1 # mnożenie\n",
    "y = i / 1 # dzielenie\n",
    "y = i % 5 # reszta z dzielenia\n",
    "y = i // 5 # dzielenie całkowite\n",
    "y = i**3 # potęgowanie"
   ]
  },
  {
   "cell_type": "markdown",
   "id": "9d170bc1",
   "metadata": {},
   "source": [
    "Więcej funkcji matematycznych możemy odnaleźć w module **math**"
   ]
  },
  {
   "cell_type": "code",
   "execution_count": null,
   "id": "bcb7c615",
   "metadata": {},
   "outputs": [],
   "source": [
    "import math\n",
    "\n",
    "# możemy w ten sposób zerknąć co się w nim znajduje..\n",
    "dir(math)"
   ]
  },
  {
   "cell_type": "markdown",
   "id": "5a09c68c",
   "metadata": {},
   "source": [
    "#### Kolekcje uporządkowane"
   ]
  },
  {
   "cell_type": "code",
   "execution_count": 150,
   "id": "bad1dece",
   "metadata": {},
   "outputs": [],
   "source": [
    "# str (string, zmienna tekstowa)\n",
    "# można zamiennie używać \" lub ', zleca się jednak '\n",
    "# zmienne str są immutable, niezmienne\n",
    "\n",
    "s = 'no hejka'"
   ]
  },
  {
   "cell_type": "code",
   "execution_count": 151,
   "id": "9ca8fb5c",
   "metadata": {},
   "outputs": [
    {
     "name": "stdout",
     "output_type": "stream",
     "text": [
      "n\n",
      "hejka\n",
      "akjeh on\n",
      "n ek\n"
     ]
    }
   ],
   "source": [
    "# stringi można indeksować\n",
    "# start (inclusive) : end (exclusive)\n",
    "# start : end : step\n",
    "# w pythonie indeksujemy od 0\n",
    "\n",
    "print(s[0], s[3:], s[::-1], s[::2], sep='\\n')"
   ]
  },
  {
   "cell_type": "code",
   "execution_count": 77,
   "id": "ba1e4c54",
   "metadata": {
    "scrolled": true
   },
   "outputs": [
    {
     "ename": "TypeError",
     "evalue": "'str' object does not support item assignment",
     "output_type": "error",
     "traceback": [
      "\u001b[1;31m---------------------------------------------------------------------------\u001b[0m",
      "\u001b[1;31mTypeError\u001b[0m                                 Traceback (most recent call last)",
      "Cell \u001b[1;32mIn[77], line 1\u001b[0m\n\u001b[1;32m----> 1\u001b[0m s[\u001b[38;5;241m0\u001b[39m] \u001b[38;5;241m=\u001b[39m \u001b[38;5;124m\"\u001b[39m\u001b[38;5;124mt\u001b[39m\u001b[38;5;124m\"\u001b[39m\n",
      "\u001b[1;31mTypeError\u001b[0m: 'str' object does not support item assignment"
     ]
    }
   ],
   "source": [
    "# ale nie zmieniać wartości\n",
    "# immutable\n",
    "\n",
    "s[0] = \"t\""
   ]
  },
  {
   "cell_type": "code",
   "execution_count": 109,
   "id": "cb6da3bc",
   "metadata": {},
   "outputs": [
    {
     "name": "stdout",
     "output_type": "stream",
     "text": [
      "3\n"
     ]
    }
   ],
   "source": [
    "# metoda count\n",
    "\n",
    "txt = \"Lubię pythona zajęcia z pythona, python\"\n",
    "\n",
    "print(txt.count('python'))"
   ]
  },
  {
   "cell_type": "code",
   "execution_count": 139,
   "id": "d410a65b",
   "metadata": {},
   "outputs": [
    {
     "name": "stdout",
     "output_type": "stream",
     "text": [
      "Imię Nazwisko\n"
     ]
    }
   ],
   "source": [
    "# konkatenacja stringów\n",
    "\n",
    "s1 = 'Imię'\n",
    "s2 = 'Nazwisko'\n",
    "s = s1 + ' ' + s2\n",
    "\n",
    "print(s)"
   ]
  },
  {
   "cell_type": "code",
   "execution_count": 140,
   "id": "9eacfbb7",
   "metadata": {},
   "outputs": [
    {
     "name": "stdout",
     "output_type": "stream",
     "text": [
      "ImięImięImię\n"
     ]
    }
   ],
   "source": [
    "print(s1 * 3)"
   ]
  },
  {
   "cell_type": "code",
   "execution_count": 154,
   "id": "3269edec",
   "metadata": {},
   "outputs": [
    {
     "name": "stdout",
     "output_type": "stream",
     "text": [
      "IMIĘ nazwisko\n"
     ]
    }
   ],
   "source": [
    "print(s1.upper() + ' ' + s2.lower())"
   ]
  },
  {
   "cell_type": "code",
   "execution_count": 147,
   "id": "68bf94e4",
   "metadata": {},
   "outputs": [
    {
     "name": "stdout",
     "output_type": "stream",
     "text": [
      "a\n"
     ]
    }
   ],
   "source": [
    "x = 97\n",
    "print(chr(x))"
   ]
  },
  {
   "cell_type": "code",
   "execution_count": 148,
   "id": "d955b784",
   "metadata": {},
   "outputs": [
    {
     "name": "stdout",
     "output_type": "stream",
     "text": [
      "80\n"
     ]
    }
   ],
   "source": [
    "x = \"P\"\n",
    "print(ord(x))"
   ]
  },
  {
   "cell_type": "markdown",
   "id": "6a8e73af",
   "metadata": {},
   "source": [
    "#### Formatowanie tekstu"
   ]
  },
  {
   "cell_type": "code",
   "execution_count": 64,
   "id": "829fce1f",
   "metadata": {},
   "outputs": [
    {
     "name": "stdout",
     "output_type": "stream",
     "text": [
      "Liczba pi: 3.141592653589793, ale z zaokrągleniem 3.14\n"
     ]
    }
   ],
   "source": [
    "# f-strings, {zmienna:format}\n",
    "\n",
    "pi = math.pi\n",
    "\n",
    "print(f\"Liczba pi: {pi}, ale z zaokrągleniem {pi:.3}\")"
   ]
  },
  {
   "cell_type": "code",
   "execution_count": 67,
   "id": "5aad993a",
   "metadata": {},
   "outputs": [
    {
     "name": "stdout",
     "output_type": "stream",
     "text": [
      "1000-3.141592653589793-xyz\n",
      "      1000\n",
      "01000\n",
      "{binarnie}: 1111101000\n",
      "01750 = #3e8\n",
      "3.1416\n",
      "    3.1416\n",
      "3.1416e+00\n",
      "  3.14E+00\n",
      "--       xyz--\n",
      "--xyz       --\n",
      "--***1000***--\n",
      "-z-3-0.667\n"
     ]
    }
   ],
   "source": [
    "number = 1000\n",
    "text = 'xyz'\n",
    "\n",
    "print(f'{number}-{pi}-{text}')\n",
    "print(f'{number:10d}\\n{number:05d}')\n",
    "print(f'{{binarnie}}: {number:b}')\n",
    "print(f'0{number:o} = #{number:x}')\n",
    "print(f'{pi:0.4f}\\n{pi:10.4f}')\n",
    "print(f'{pi:0.4e}\\n{pi:10.2E}')\n",
    "print(f'--{text:>10}--\\n--{text:<10}--')\n",
    "print(f'--{number:*^10d}--')\n",
    "print(f'-{text[2]}-{len(text)}-{2/3:0.3f}')"
   ]
  },
  {
   "cell_type": "markdown",
   "id": "f758cafd",
   "metadata": {},
   "source": [
    "#### Wartości logiczne i operacje na nich"
   ]
  },
  {
   "cell_type": "code",
   "execution_count": 76,
   "id": "b9fdac3c",
   "metadata": {},
   "outputs": [],
   "source": [
    "# bool (boolean, wartości logiczne)\n",
    "# True (1) lub False (0)\n",
    "\n",
    "b = True\n",
    "b = i <= 255\n",
    "b = i == 255\n",
    "b = i != 255\n",
    "\n",
    "# operatory logiczne\n",
    "b = i < 0 and i > 255\n",
    "b = i < 0 or i < 255\n",
    "b = (i >= 0 and i < 256) or i % 10 == 5\n",
    "b = not (i >= 0 and i < 10) or i % 10 == 5\n",
    "b = x is None\n",
    "b = x is not None\n",
    "b = 10 in [0, 10, 20, 30]\n",
    "b = 10 not in [0, 1, 2, 3]\n",
    "\n",
    "# funkcje any() i all()\n",
    "b = any([i == 0 , i == 255, i == 300])\n",
    "b = all([i > 0, i == 255, i < 256])"
   ]
  },
  {
   "cell_type": "markdown",
   "id": "be8aa515",
   "metadata": {},
   "source": [
    "#### Listy i podstawowe operacje na nich"
   ]
  },
  {
   "cell_type": "markdown",
   "id": "030c7640",
   "metadata": {},
   "source": [
    "Elementy listy/krotki mogą być tego samego lub różnych typów, mogą być również referencjami do funkcji."
   ]
  },
  {
   "cell_type": "code",
   "execution_count": 78,
   "id": "847b3038",
   "metadata": {},
   "outputs": [
    {
     "name": "stdout",
     "output_type": "stream",
     "text": [
      "['można', 1, 1240.0, 155, None, <built-in function print>]\n"
     ]
    }
   ],
   "source": [
    "l = ['cośtam', 1, 1.24e03, 0x9b, None, print]\n",
    "\n",
    "l[0] = \"można\"\n",
    "\n",
    "print(l)"
   ]
  },
  {
   "cell_type": "code",
   "execution_count": 80,
   "id": "f6b74123",
   "metadata": {},
   "outputs": [
    {
     "ename": "TypeError",
     "evalue": "'tuple' object does not support item assignment",
     "output_type": "error",
     "traceback": [
      "\u001b[1;31m---------------------------------------------------------------------------\u001b[0m",
      "\u001b[1;31mTypeError\u001b[0m                                 Traceback (most recent call last)",
      "Cell \u001b[1;32mIn[80], line 5\u001b[0m\n\u001b[0;32m      1\u001b[0m \u001b[38;5;66;03m# immutable\u001b[39;00m\n\u001b[0;32m      3\u001b[0m k \u001b[38;5;241m=\u001b[39m (\u001b[38;5;124m'\u001b[39m\u001b[38;5;124mcośtam\u001b[39m\u001b[38;5;124m'\u001b[39m, \u001b[38;5;241m1\u001b[39m, \u001b[38;5;241m1.24e03\u001b[39m, \u001b[38;5;241m0x9b\u001b[39m, \u001b[38;5;28;01mNone\u001b[39;00m, \u001b[38;5;28mprint\u001b[39m)\n\u001b[1;32m----> 5\u001b[0m k[\u001b[38;5;241m0\u001b[39m] \u001b[38;5;241m=\u001b[39m \u001b[38;5;124m\"\u001b[39m\u001b[38;5;124mnie można\u001b[39m\u001b[38;5;124m\"\u001b[39m\n",
      "\u001b[1;31mTypeError\u001b[0m: 'tuple' object does not support item assignment"
     ]
    }
   ],
   "source": [
    "# immutable\n",
    "\n",
    "k = ('cośtam', 1, 1.24e03, 0x9b, None, print)\n",
    "\n",
    "k[0] = \"nie można\""
   ]
  },
  {
   "cell_type": "markdown",
   "id": "4adc7746",
   "metadata": {},
   "source": [
    "Listy - metody append(), extend() oraz reverse()"
   ]
  },
  {
   "cell_type": "code",
   "execution_count": 136,
   "id": "da4666a2",
   "metadata": {},
   "outputs": [],
   "source": [
    "# utworzenie pustej listy\n",
    "\n",
    "l = list()\n",
    "l = []"
   ]
  },
  {
   "cell_type": "code",
   "execution_count": 137,
   "id": "6fa613cf",
   "metadata": {},
   "outputs": [
    {
     "name": "stdout",
     "output_type": "stream",
     "text": [
      "[0, 1, 2, 3, 4, 5, 6, 7, 8, 9]\n"
     ]
    }
   ],
   "source": [
    "# utworzenie listy od 0 do 9\n",
    "l = list(range(10))\n",
    "\n",
    "print(l)"
   ]
  },
  {
   "cell_type": "code",
   "execution_count": 83,
   "id": "136294c4",
   "metadata": {},
   "outputs": [
    {
     "name": "stdout",
     "output_type": "stream",
     "text": [
      "range(stop) -> range object\n",
      "range(start, stop[, step]) -> range object\n",
      "\n",
      "Return an object that produces a sequence of integers from start (inclusive)\n",
      "to stop (exclusive) by step.  range(i, j) produces i, i+1, i+2, ..., j-1.\n",
      "start defaults to 0, and stop is omitted!  range(4) produces 0, 1, 2, 3.\n",
      "These are exactly the valid indices for a list of 4 elements.\n",
      "When step is given, it specifies the increment (or decrement).\n"
     ]
    }
   ],
   "source": [
    "# co to w ogóle jest range? Można również spróbować help(range)\n",
    "print(range.__doc__)"
   ]
  },
  {
   "cell_type": "code",
   "execution_count": 90,
   "id": "0981f927",
   "metadata": {},
   "outputs": [
    {
     "name": "stdout",
     "output_type": "stream",
     "text": [
      "[0, 1, 2, 3, 4, 5, 6, 7, 8, 9, 10]\n"
     ]
    }
   ],
   "source": [
    "# dodawanie elementu na końcu metodą append()\n",
    "l.append(10)\n",
    "\n",
    "print(l)"
   ]
  },
  {
   "cell_type": "code",
   "execution_count": 91,
   "id": "bb256d96",
   "metadata": {},
   "outputs": [
    {
     "name": "stdout",
     "output_type": "stream",
     "text": [
      "[0, 1, 2, 3, 4, 5, 6, 7, 8, 9, 10, 10, 11, 12, 13, 14]\n"
     ]
    }
   ],
   "source": [
    "# rozszerzanie o elementy innej kolekcji\n",
    "l.extend(range(10, 15, 1))\n",
    "print(l)"
   ]
  },
  {
   "cell_type": "code",
   "execution_count": 92,
   "id": "65e3ec6c",
   "metadata": {},
   "outputs": [
    {
     "name": "stdout",
     "output_type": "stream",
     "text": [
      "[9, 8, 7, 6, 5, 4, 3, 2, 1, 0]\n"
     ]
    }
   ],
   "source": [
    "# odwracanie in-place\n",
    "l = list(range(10))\n",
    "l.reverse()\n",
    "print(l)"
   ]
  },
  {
   "cell_type": "code",
   "execution_count": 93,
   "id": "52ca7e90",
   "metadata": {},
   "outputs": [
    {
     "name": "stdout",
     "output_type": "stream",
     "text": [
      "[0, 1, 2, 3, 4, 5, 6, 7, 8, 9]\n"
     ]
    }
   ],
   "source": [
    "l = l[::-1]\n",
    "print(l)"
   ]
  },
  {
   "cell_type": "code",
   "execution_count": 114,
   "id": "17ed73c9",
   "metadata": {},
   "outputs": [
    {
     "name": "stdout",
     "output_type": "stream",
     "text": [
      "[5, 1, 2]\n",
      "[1, 2, 5]\n"
     ]
    }
   ],
   "source": [
    "# sort vs sorted\n",
    "\n",
    "l = [5, 1, 2]\n",
    "\n",
    "sorted(l)\n",
    "print(l)\n",
    "\n",
    "l.sort() # tylko do list\n",
    "print(l)"
   ]
  },
  {
   "cell_type": "code",
   "execution_count": 115,
   "id": "d2a3d36c",
   "metadata": {},
   "outputs": [
    {
     "name": "stdout",
     "output_type": "stream",
     "text": [
      "['a', 'to była referencja', 'c']\n",
      "True\n"
     ]
    }
   ],
   "source": [
    "# mutability\n",
    "l1 = ['a', 'b', 'c']\n",
    "l2 = l1\n",
    "l2[1] = 'to była referencja'\n",
    "\n",
    "print(l1)\n",
    "print(l1 == l2) # id()"
   ]
  },
  {
   "cell_type": "code",
   "execution_count": 117,
   "id": "6fcc7951",
   "metadata": {},
   "outputs": [
    {
     "name": "stdout",
     "output_type": "stream",
     "text": [
      "['a', 'b', 'c']\n",
      "False\n"
     ]
    }
   ],
   "source": [
    "l1 = ['a', 'b', 'c']\n",
    "l2 = l1.copy() # lub l2 = l1[:]\n",
    "l2[1] = 'a to inny obiekt'\n",
    "\n",
    "print(l1)\n",
    "print(l1 == l2)"
   ]
  },
  {
   "cell_type": "code",
   "execution_count": 118,
   "id": "2b34d22d",
   "metadata": {},
   "outputs": [
    {
     "name": "stdout",
     "output_type": "stream",
     "text": [
      "[0, 'a', 'b', 'c', 1, 2]\n"
     ]
    }
   ],
   "source": [
    "l = list(range(3))\n",
    "\n",
    "# przypisanie do pustego slice’a\n",
    "l[1:1] = ['a', 'b', 'c']\n",
    "print(l)"
   ]
  },
  {
   "cell_type": "code",
   "execution_count": 119,
   "id": "5942cfd7",
   "metadata": {},
   "outputs": [
    {
     "name": "stdout",
     "output_type": "stream",
     "text": [
      "[0, ['a', 'b', 'c'], 2]\n"
     ]
    }
   ],
   "source": [
    "l = list(range(3))\n",
    "\n",
    "# vs przypisanie do pozycji 1\n",
    "l[1] = ['a', 'b', 'c']\n",
    "print(l)"
   ]
  },
  {
   "cell_type": "code",
   "execution_count": 106,
   "id": "03196b3d",
   "metadata": {},
   "outputs": [
    {
     "name": "stdout",
     "output_type": "stream",
     "text": [
      "['tak', 'tak', 'tak']\n"
     ]
    }
   ],
   "source": [
    "# metody split i join\n",
    "\n",
    "s = \"tak, tak, tak\"\n",
    "l  = s.split(\", \")\n",
    "\n",
    "print(l)"
   ]
  },
  {
   "cell_type": "code",
   "execution_count": 107,
   "id": "66f45605",
   "metadata": {},
   "outputs": [
    {
     "name": "stdout",
     "output_type": "stream",
     "text": [
      "taktaktak\n"
     ]
    }
   ],
   "source": [
    "print(\"\".join(l))"
   ]
  },
  {
   "cell_type": "code",
   "execution_count": 108,
   "id": "84e0601f",
   "metadata": {},
   "outputs": [
    {
     "name": "stdout",
     "output_type": "stream",
     "text": [
      "tak tak tak\n"
     ]
    }
   ],
   "source": [
    "print(\" \".join(l))"
   ]
  },
  {
   "cell_type": "markdown",
   "id": "769f45a8",
   "metadata": {},
   "source": [
    "#### Kolekcje nieuporządkowane"
   ]
  },
  {
   "cell_type": "code",
   "execution_count": 122,
   "id": "c4539de7",
   "metadata": {},
   "outputs": [
    {
     "name": "stdout",
     "output_type": "stream",
     "text": [
      "{1.0, 2, 4.235, 'a', 'b', 'c'}\n"
     ]
    }
   ],
   "source": [
    "# set to kolekcja unikalnych elementów\n",
    "\n",
    "\n",
    "s = {1.0, 'tekst', 4.235}\n",
    "\n",
    "# dodaj pojedynczy element,\n",
    "s.add(2)\n",
    "\n",
    "# dodaj elementy z innej kolekcji\n",
    "s.update(['a', 'b', 'c'])\n",
    "\n",
    "# usuń pojedynczy element\n",
    "s.discard('tekst')\n",
    "\n",
    "print(s)"
   ]
  },
  {
   "cell_type": "code",
   "execution_count": 124,
   "id": "a4944eb3",
   "metadata": {},
   "outputs": [
    {
     "name": "stdout",
     "output_type": "stream",
     "text": [
      "{0, 1, 2, 3}\n"
     ]
    }
   ],
   "source": [
    "# konwersja listy/krotki do zbioru (set)\n",
    "l = [0, 1, 1, 1, 1, 1, 2, 3]\n",
    "s = set(l)\n",
    "\n",
    "print(s)"
   ]
  },
  {
   "cell_type": "code",
   "execution_count": 125,
   "id": "89bd8a6b",
   "metadata": {},
   "outputs": [
    {
     "name": "stdout",
     "output_type": "stream",
     "text": [
      "{0, 1, 2, 3}\n",
      "frozenset({0, 1, 2, 3})\n"
     ]
    }
   ],
   "source": [
    "# frozenset - immutable\n",
    "fs = frozenset(l)\n",
    "print(s, fs, sep='\\n')"
   ]
  },
  {
   "cell_type": "code",
   "execution_count": 127,
   "id": "f8732e44",
   "metadata": {},
   "outputs": [],
   "source": [
    "s1 = {1, 2, 3, 4, 5, 6}\n",
    "s2 = {4, 5, 6, 7, 8, 9}\n",
    "\n",
    "# suma zbiorów, s1 lub s2\n",
    "union = s1 | s2\n",
    "union = s1.union(s2)\n",
    "\n",
    "# różnica zbiorów, s1 odjąć s2\n",
    "# elementy zbioru s1 nieobecne w s2\n",
    "diff = s1 - s2\n",
    "diff = s1.difference(s2)\n",
    "\n",
    "# przecięcie, s1 i s2\n",
    "# elementy obecne zarówno w s1 jak i s2\n",
    "inter = s1 & s2\n",
    "inter = s1.intersection(s2)\n",
    "\n",
    "# różnica symetryczna, suma - przecięcie\n",
    "# elementy unikalne dla obu zbiorów\n",
    "sym = s1 ^ s2\n",
    "sym = s1.symmetric_difference(s2)"
   ]
  },
  {
   "cell_type": "code",
   "execution_count": 129,
   "id": "99adff7f",
   "metadata": {},
   "outputs": [
    {
     "name": "stdout",
     "output_type": "stream",
     "text": [
      "a\n",
      "c\n"
     ]
    }
   ],
   "source": [
    "# dict, dictionary (słownik) to kolekcja\n",
    "# par klucz : wartość, gdzie klucz to\n",
    "# zmienna typu podstawowego lub immutable collection\n",
    "\n",
    "d = {\n",
    "    '1' : 'a',\n",
    "    2.0 : ['b', 'b', 'b'],\n",
    "    (1, 2) : 'c',\n",
    "    10 : 20.5\n",
    "}\n",
    "\n",
    "print(d['1'])\n",
    "print(d[(1,2)])"
   ]
  },
  {
   "cell_type": "code",
   "execution_count": 131,
   "id": "8119f3b8",
   "metadata": {},
   "outputs": [
    {
     "name": "stdout",
     "output_type": "stream",
     "text": [
      "{'1': 'a', 2.0: ['b', 'b', 'b'], (1, 2): 'c', 10: 20.5, 'nowy klucz': 'nowa wartość'}\n"
     ]
    }
   ],
   "source": [
    "# dodajemy nową parę\n",
    "d['nowy klucz'] = 'nowa wartość'\n",
    "print(d)"
   ]
  },
  {
   "cell_type": "markdown",
   "id": "89c19b77",
   "metadata": {},
   "source": [
    "#### Minimum o przyjmowaniu danych od użytkownika"
   ]
  },
  {
   "cell_type": "code",
   "execution_count": 134,
   "id": "c5cc9c68",
   "metadata": {},
   "outputs": [
    {
     "name": "stdout",
     "output_type": "stream",
     "text": [
      "Podaj swoją cenę: 7\n",
      "7\n"
     ]
    }
   ],
   "source": [
    "x = input(\"Podaj swoją cenę: \")\n",
    "\n",
    "print(x)"
   ]
  },
  {
   "cell_type": "markdown",
   "id": "c245dd36",
   "metadata": {},
   "source": [
    "### Wywoływanie skryptów .py z wiersza poleceń (Linux)\n",
    "\n",
    "Skrypt rozpoczzynamy od sekwencji znaków Shebang (#!), po której znajduje się ścieżka do interpretera. Uniksowe narzędzie powłokowe **env** pozwala wyszukać jego lokalizacje w zmiennej środowiskowej **$PATH**, co służy przenośność skryptu.\n",
    "\n",
    "            #!/usr/bin/env python\n",
    "            \n",
    "            \n",
    "Wiersz poleceń możemy wywołać kożystając z klawiszy **Ctrl+Alt+T**.\n",
    "\n",
    "Po utworzeniu pliku .py konieczna może być zmiana uprawnień do niego przed uruchomieniem **chmod +x myscript.py.**\n",
    "\n",
    "Teraz możemy wywołać nasz skrypt za pomocą **./myscript.py**"
   ]
  },
  {
   "cell_type": "markdown",
   "id": "d5eb0081",
   "metadata": {},
   "source": [
    "**Zadanie 0.** Utwórz skrypt .py wypisujący na ekranie napis \"Hello World!\". Uruchom go z wierasza poleceń."
   ]
  },
  {
   "cell_type": "markdown",
   "id": "667cfbe7",
   "metadata": {},
   "source": [
    "**Zadanie 1.** Oblicz procentową zawartość GC w poniższej sekwencji. Wypisz ją na ekranie z dokładnością do drugiego miejsca po przecinku.\n",
    "\n",
    "                ATGCATATGACTCAATGCCCATTAAAAA"
   ]
  },
  {
   "cell_type": "markdown",
   "id": "b3b2f473",
   "metadata": {},
   "source": [
    "**Zadanie 2.** Napisz program, który pomiędzy słowa przyśpiewki \"Kocham Pythona kocham go cały dzień i noc\" umieszcza wyraz dźwiękonaśladowczy \"joł\"."
   ]
  },
  {
   "cell_type": "markdown",
   "id": "b20152e6",
   "metadata": {},
   "source": [
    "**Zadanie 3.** Napisz program, który przyjmuje od użytkownika jego imię oraz nazwisko a następnie wypisuje propozycję jego adresu email w domenie student.uj.edu.pl. Upewnij się że zawiera tylko małe litery."
   ]
  },
  {
   "cell_type": "markdown",
   "id": "3fad7936",
   "metadata": {},
   "source": [
    "**Zadanie 4.** Twój kolega chciałby sprawdzić czy imię jego najlepszego przyjaciela znajduje się na liście zabawnych imion. Najpierw chciałby ją uaktualnić o imię Harry Dixon, ale nie potrafi programować i jego kod nie działa. Pomóż mu naprawiając jego kod:\n",
    "\n",
    "names_list = (\"Dill Doe\", \"Chris P. Bacon\", \"Ben Dover\")\n",
    "\n",
    "names_list.append(\"Harry Dixon\")\n",
    "\n",
    "input = input(\"Podaję imię : )\n",
    "\n",
    "b = input in names_list\n",
    "\n",
    "print b"
   ]
  }
 ],
 "metadata": {
  "kernelspec": {
   "display_name": "Python 3 (ipykernel)",
   "language": "python",
   "name": "python3"
  },
  "language_info": {
   "codemirror_mode": {
    "name": "ipython",
    "version": 3
   },
   "file_extension": ".py",
   "mimetype": "text/x-python",
   "name": "python",
   "nbconvert_exporter": "python",
   "pygments_lexer": "ipython3",
   "version": "3.11.4"
  }
 },
 "nbformat": 4,
 "nbformat_minor": 5
}
