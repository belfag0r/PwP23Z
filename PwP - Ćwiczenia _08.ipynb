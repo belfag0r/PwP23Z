{
 "cells": [
  {
   "cell_type": "markdown",
   "id": "1a8bc1df",
   "metadata": {},
   "source": [
    "# OS SYS DATETIME"
   ]
  },
  {
   "cell_type": "markdown",
   "id": "4d08aac7",
   "metadata": {},
   "source": [
    "Zapoznamy się z modułami biblioteki standardowej:\n",
    "\n",
    "* os, sys oraz datetime\n",
    "\n",
    "<br>\n",
    "\n",
    "\n",
    "A w szczególności:\n",
    "\n",
    "*  OS\n",
    "    * getcwd, mkdir, chdir, listdir, remove, rmdir, rename, getpid, kill\n",
    "    \n",
    "    * os.path - split, dirname, basename, join, isfile, isdir, splitext\n",
    "\n",
    "<br>\n",
    "\n",
    "* SYS\n",
    "    * argv, maxsize, getsizeof, modules, exit\n",
    "    \n",
    "<br>\n",
    "\n",
    "* DATETIME\n",
    "    * datetime\n",
    "\n",
    "\n",
    "<br>\n"
   ]
  },
  {
   "cell_type": "markdown",
   "id": "201a609d",
   "metadata": {},
   "source": [
    "## OS\n",
    "Moduł zawiera abstrakcję funkcji zależnych od systemu operacyjnego."
   ]
  },
  {
   "cell_type": "markdown",
   "id": "1557ba15",
   "metadata": {},
   "source": [
    "* getcwd: zwraca string do bieżącego katalogu roboczego\n",
    "* mkdir: utwórz nowy folder w zadanej lokalizacji\n",
    "* chdir: zmiana bieżącego katalogu roboczego na zodaną lokalizację\n",
    "* listdir: zwraca listę zawierającą nazwy plików w katalogu\n",
    "* remove: usówa plik\n",
    "* rmdir: usówa folder\n",
    "* rename: zmiana nazwy pliku\n",
    "* getpid: zwraca id procesu\n",
    "* kill: zabija program o podanym *pid*"
   ]
  },
  {
   "cell_type": "markdown",
   "id": "3602a973",
   "metadata": {},
   "source": [
    "## os.path\n",
    "Moduł zawiera funkcjonalność przydatnych operacji na ścieżkach plików (ale lepiej skorzystać z pathlib..)."
   ]
  },
  {
   "cell_type": "markdown",
   "id": "0d3f297e",
   "metadata": {},
   "source": [
    "* split: zwraca krotkę z częściami ścieżki rozdzielonymi na ostatnim \\\n",
    "* dirname: zmwara nazwę folderu z ścieżki\n",
    "* basename: zwraca ostatni człon ścieżki\n",
    "* join: zwraca string złączonych części ścieżki\n",
    "* isfile: sprawdza czy ścieżka jest plikiem\n",
    "* isdir: sprawdza czy ścieżka jest folderem\n",
    "* splitext: zwraca krotkę dzieląc ścieżkę na ostatniej kropce (root, extension)"
   ]
  },
  {
   "cell_type": "code",
   "execution_count": null,
   "id": "7880af18",
   "metadata": {
    "scrolled": false
   },
   "outputs": [],
   "source": [
    "root = os.getcwd()\n",
    "\n",
    "print(root)\n",
    "\n",
    "for p in os.listdir():\n",
    "    \n",
    "    if os.path.isfile(p):\n",
    "        \n",
    "        name, extension = os.path.splitext(p)\n",
    "        \n",
    "        if extension == \".pdf\":\n",
    "            print(name)\n",
    "            \n",
    "abs_path = os.path.join(root, name + extension)\n",
    "\n",
    "print(abs_path, os.path.getsize(abs_path))"
   ]
  },
  {
   "cell_type": "markdown",
   "id": "6d25a720",
   "metadata": {},
   "source": [
    "## SYS\n",
    "Dostęp do zmiennych interpretera i funkcji zmieniających jego stany."
   ]
  },
  {
   "cell_type": "markdown",
   "id": "20f34b43",
   "metadata": {},
   "source": [
    "* argv: umożliwia dostęp do listy argumentów podanych przy wywoływaniu skruptu (lepiej moduł argparse)\n",
    "* maxsize: maksymalny rozmiar wskaźnika systemu\n",
    "* getsizeof: rozmiar obiektu w bajtach\n",
    "* modules: zwraca słownik zawierający moduły dostępne w środowisku\n",
    "* exit: zamyka interpretator\n",
    "\n",
    "* stdin, stdout, stderr: przekierowywanie strumieni danych"
   ]
  },
  {
   "cell_type": "code",
   "execution_count": 123,
   "id": "762b47df",
   "metadata": {},
   "outputs": [
    {
     "name": "stdout",
     "output_type": "stream",
     "text": [
      "win32 3.11.4 | packaged by Anaconda, Inc. | (main, Jul  5 2023, 13:38:37) [MSC v.1916 64 bit (AMD64)]\n"
     ]
    }
   ],
   "source": [
    "print(sys.platform, sys.version)"
   ]
  },
  {
   "cell_type": "markdown",
   "id": "5e758894",
   "metadata": {},
   "source": [
    "## DATETIME\n",
    "Manipulowanie czasem i datami.."
   ]
  },
  {
   "cell_type": "code",
   "execution_count": 139,
   "id": "aec6957e",
   "metadata": {},
   "outputs": [
    {
     "name": "stdout",
     "output_type": "stream",
     "text": [
      "2023-12-15\n",
      "2024-08-22\n",
      "Bday in 251 days.\n"
     ]
    }
   ],
   "source": [
    "import time\n",
    "from datetime import date, fromtimestamp\n",
    "\n",
    "today = date.today()\n",
    "print(today)\n",
    "\n",
    "today == date.fromtimestamp(time.time())\n",
    "\n",
    "my_birthday = date(today.year, 8, 22)\n",
    "\n",
    "if my_birthday < today:\n",
    "    my_birthday = my_birthday.replace(year=today.year + 1)\n",
    "\n",
    "print(my_birthday)\n",
    "\n",
    "time_to_birthday = abs(my_birthday - today)\n",
    "\n",
    "print(f\"Bday in {time_to_birthday.days} days.\")"
   ]
  },
  {
   "cell_type": "code",
   "execution_count": 147,
   "id": "ac5c3702",
   "metadata": {},
   "outputs": [
    {
     "name": "stdout",
     "output_type": "stream",
     "text": [
      "Fri Dec 15 12:27:28 2023\n"
     ]
    }
   ],
   "source": [
    "with open(\"nowy_plik1.txt\", \"x\") as fp:\n",
    "    fp.write(\"xyz\")\n",
    "    \n",
    "last_modified_time = os.path.getmtime(\"nowy_plik1.txt\")\n",
    "\n",
    "print(time.ctime(last_modified_time))"
   ]
  },
  {
   "cell_type": "markdown",
   "id": "9e410acb",
   "metadata": {},
   "source": [
    "## TF-IDF\n",
    "**TF-IDF** (ang. Term Frequency-Inverse Document Frequency) to metoda wektorowej reprezentacji tekstu, w której częstość wystąpienia danego słowa w dokumencie ważona jest przez częstość jego występowania w zbiorze dokumentów.\n",
    "\n",
    "**TF** obliczyć bardzo prosto, zliczamy wystąpienai słowa \"x\" w dokumencie (np. *file_txt.count(\"x\")*) a następnie dzielimy przez liczbę wszystkich jego słów (np. *len(file_txt.split())*).\n",
    "\n",
    "Człon **IDF** jest logarytmem z ilorazu liczby dokumentów i liczby dokumentów z słowem \"x\", aby uniknąć dzielenia przez zero możemy to wyrazić jako:\n",
    "\n",
    "*idf = 1.0 + math.log((1 + liczba dokumentów) / (1 + liczba dokumentów z słowem \"x\"))*\\\n",
    "\n",
    "*tf-idf = tf * idf*\\\n",
    "<br>\n",
    "<br>\n",
    "**Podobieństwo cosinusowe** pomiędzy wektorami A i B obliczamy jako iloczyn skalarny A i B podzielony przez iloczyn norm A i B.\\\n",
    "<br>\n",
    "Iloczyn skalarny A = [a1, a2, ...], B = [b1, b2, ...] to suma iloczynów [a1\\*b1, a2\\*b2, ...]...\n",
    "<br>\n",
    "Norma to pierwiastek z sumy kwadratów, dla A = math.sqrt(sum([a**2 for a in A])...\n",
    "<br>\n",
    "<br>"
   ]
  },
  {
   "cell_type": "markdown",
   "id": "8ff0586a",
   "metadata": {},
   "source": [
    "**Zadanie 1.** Oblicz TF-IDF dla korpusu zawierającego poniższe zdania / dokumenty:\n",
    "\n",
    "f1 = \"Język programowania python jest super\"\n",
    "f2 = \"Język programowania javascript odraża mnie\"\n",
    "<br>\n",
    "<br>"
   ]
  },
  {
   "cell_type": "markdown",
   "id": "4592912f",
   "metadata": {},
   "source": [
    "**Zadanie 2.** Oblicz podobieństwo cosinusowe pomiędzy reprezentacjami f1 i f2.\n",
    "<br>\n",
    "<br>"
   ]
  },
  {
   "cell_type": "markdown",
   "id": "d5f16d88",
   "metadata": {},
   "source": [
    "**Zadanie 3.**\n",
    "\n",
    "*Twój pulpit jest zawalony publikacjami, pora coś z tym zrobić..*\\\n",
    "\n",
    "\\*daje zadanie studentom\\*\n",
    "\n",
    "<br>\n",
    "\n",
    "Napisz klasę *TFIDF*, powinna przyjmować ścieżkę do folderu, w którym znajdują się publikacje (o rozszerzeniu *.pdf*). Należy wczytać ich tytuły i obliczyć dla nich tf-idf. Metoda *create_vector* powinna zwracać listę reprezentacji wektorowych tytułów publikacji, czyli listę list."
   ]
  },
  {
   "cell_type": "code",
   "execution_count": 81,
   "id": "74826c27",
   "metadata": {},
   "outputs": [],
   "source": [
    "class TFIDF:\n",
    "    def __init__(self, path_to_pubs):\n",
    "        \n",
    "        self.data = ... # lista list słów z tytułów publikacji\n",
    "        self.word_to_index = {} # słownik przypisujący unikalny indeks każdemu słowu z korpusu (zbioru publikacji)\n",
    "        self.idfs_ = {} # słownik zawierający idf każdego unikalnego słowa\n",
    "        self.vocab = set() # zbiór unikalnych słów występujących w korpusie\n",
    "    \n",
    "    def _build_vocab(self):\n",
    "        \"\"\"\n",
    "        Funkcja do zbudowania self.vocab\n",
    "        \"\"\"\n",
    "    \n",
    "    def _build_index(self):\n",
    "        \"\"\"\n",
    "        Funkcja do zbudowania indeksu unikalnych słów z self.vocab\n",
    "        \"\"\"\n",
    "\n",
    "        \n",
    "    def _calculate_idfs(self):\n",
    "        \"\"\"\n",
    "        Funkcja do obliczenia idf dla unikalnych słów z self.vocab\n",
    "        \"\"\"\n",
    "        \n",
    "        \n",
    "    def _tfidf(self, input_sent):\n",
    "        \"\"\"\n",
    "        Funkcja obliczająca tf-idf dla każdego tytułu publikacji, przyjmuje listę słów input_sent, zwraca listę float\n",
    "        \"\"\"\n",
    "\n",
    "    def create_vector(self):\n",
    "        \n",
    "        self._build_vocab()\n",
    "        self._build_index()\n",
    "        self._calculate_idfs()\n",
    "        vector = []\n",
    "        \n",
    "        for sent in self.data:\n",
    "            sent_vector = self._tfidf(sent)\n",
    "            vector.append(sent_vector)\n",
    "\n",
    "        return vector"
   ]
  }
 ],
 "metadata": {
  "kernelspec": {
   "display_name": "Python 3 (ipykernel)",
   "language": "python",
   "name": "python3"
  },
  "language_info": {
   "codemirror_mode": {
    "name": "ipython",
    "version": 3
   },
   "file_extension": ".py",
   "mimetype": "text/x-python",
   "name": "python",
   "nbconvert_exporter": "python",
   "pygments_lexer": "ipython3",
   "version": "3.11.4"
  }
 },
 "nbformat": 4,
 "nbformat_minor": 5
}
