{
 "cells": [
  {
   "cell_type": "markdown",
   "id": "3a01c3a9",
   "metadata": {},
   "source": [
    "# Wyjątki, obsługa błędów oraz podstawowe operacje na plikach"
   ]
  },
  {
   "cell_type": "markdown",
   "id": "b22fecdb",
   "metadata": {},
   "source": [
    "Zapoznamy się z takimi słowami kluczowymi jak:\n",
    "\n",
    "* try, with, assert, except, raise, finally \n",
    "\n",
    "\n",
    "<br>\n",
    "\n",
    "\n",
    "oraz funkcjami wbudowanymi:\n",
    "\n",
    "* open\n",
    "\n",
    "<br>\n"
   ]
  },
  {
   "cell_type": "markdown",
   "id": "02d9b561",
   "metadata": {},
   "source": [
    "## Błędy i wyjątki"
   ]
  },
  {
   "cell_type": "markdown",
   "id": "c299f47d",
   "metadata": {},
   "source": [
    "W Pythonie można je właściwie traktować jako synonimy. Z pewnością mieliście już okazję zapoznać się z wieloma z nich. Wyjątki są rodzajem błędów wykrytych podczas działania programu. Są obiektami, które dziedziczą po klasie *BaseException*, możemy zatem prosto definiować własne klasy błędów, ale o tym więcej przy okazji OOP.\n",
    "\n",
    "Istnieje hierarchia wyjątków, o której więcej można przeczytać poniżej:\n",
    "\n",
    "https://docs.python.org/3/library/exceptions.html"
   ]
  },
  {
   "cell_type": "markdown",
   "id": "34cabb33",
   "metadata": {},
   "source": [
    "Wyjątki mogą być przechwycone, czyli w pewien sposób przewidziane i obsłużone przez programistę. W tym celu posługujemy się składnią **try-except-else-finally**, która przypomina bloki warunkowe *if-elif-else*, z tym że w miejscach wyrażeń umieszczamy nazwy klas błędów."
   ]
  },
  {
   "cell_type": "code",
   "execution_count": 18,
   "id": "fe6e2b25",
   "metadata": {},
   "outputs": [],
   "source": [
    "try:\n",
    "    # tutaj zamieszczamy kod, w którym może wystąpić wyjątek\n",
    "    pass\n",
    "    \n",
    "except KlasaOczekiwanegoWyjątku:\n",
    "    # kod obsługujący sytuację, w której wystąpi dany wyjątek\n",
    "    pass\n",
    "    \n",
    "except InnaKlasaOczekiwanegoWyjątku as nazwa:\n",
    "    # kod obsługujący inny wyjątek (można coż zrobić z $nazwa)\n",
    "    pass\n",
    "    \n",
    "else:\n",
    "    # kod wykonywany, gdy wyjątek nie wystąpił\n",
    "    pass\n",
    "\n",
    "finally:\n",
    "    # kod wykonywany zawsze\n",
    "    pass\n"
   ]
  },
  {
   "cell_type": "code",
   "execution_count": 17,
   "id": "d28b2896",
   "metadata": {},
   "outputs": [
    {
     "name": "stdout",
     "output_type": "stream",
     "text": [
      "Dzielenie niezdefiniowane na typach podanych zmiennych\n"
     ]
    }
   ],
   "source": [
    "def moja_funkcja_dzielaca(a, b):\n",
    "    \n",
    "    try:\n",
    "        return a / b\n",
    "    \n",
    "    except ZeroDivisionError:\n",
    "        print(\"Próbujesz dzielić przez 0 ziom\")\n",
    "        \n",
    "        return\n",
    "        \n",
    "    except TypeError:\n",
    "        print(\"Dzielenie niezdefiniowane na typach podanych zmiennych\")\n",
    "        \n",
    "        return\n",
    "\n",
    "moja_funkcja_dzielaca(1, \"0\")"
   ]
  },
  {
   "cell_type": "markdown",
   "id": "b5aa81e9",
   "metadata": {},
   "source": [
    "W pewnych przypadkach możemy chcieć wywołać błąd.. służy temu instrukcja **raise**."
   ]
  },
  {
   "cell_type": "code",
   "execution_count": 21,
   "id": "b857ea1d",
   "metadata": {},
   "outputs": [
    {
     "ename": "NotImplementedError",
     "evalue": "XYZ sie obija!",
     "output_type": "error",
     "traceback": [
      "\u001b[1;31m---------------------------------------------------------------------------\u001b[0m",
      "\u001b[1;31mNotImplementedError\u001b[0m                       Traceback (most recent call last)",
      "Cell \u001b[1;32mIn[21], line 4\u001b[0m\n\u001b[0;32m      1\u001b[0m \u001b[38;5;28;01mdef\u001b[39;00m \u001b[38;5;21mwazna_funkcja_dla_szefa\u001b[39m():\n\u001b[0;32m      2\u001b[0m     \u001b[38;5;28;01mraise\u001b[39;00m \u001b[38;5;167;01mNotImplementedError\u001b[39;00m(\u001b[38;5;124m\"\u001b[39m\u001b[38;5;124mXYZ sie obija!\u001b[39m\u001b[38;5;124m\"\u001b[39m)\n\u001b[1;32m----> 4\u001b[0m wazna_funkcja_dla_szefa()\n",
      "Cell \u001b[1;32mIn[21], line 2\u001b[0m, in \u001b[0;36mwazna_funkcja_dla_szefa\u001b[1;34m()\u001b[0m\n\u001b[0;32m      1\u001b[0m \u001b[38;5;28;01mdef\u001b[39;00m \u001b[38;5;21mwazna_funkcja_dla_szefa\u001b[39m():\n\u001b[1;32m----> 2\u001b[0m     \u001b[38;5;28;01mraise\u001b[39;00m \u001b[38;5;167;01mNotImplementedError\u001b[39;00m(\u001b[38;5;124m\"\u001b[39m\u001b[38;5;124mXYZ sie obija!\u001b[39m\u001b[38;5;124m\"\u001b[39m)\n",
      "\u001b[1;31mNotImplementedError\u001b[0m: XYZ sie obija!"
     ]
    }
   ],
   "source": [
    "def wazna_funkcja_dla_szefa():\n",
    "    raise NotImplementedError(\"XYZ sie obija!\")\n",
    "    \n",
    "    # w ogólności\n",
    "    # raise Exception(\"wiadomość\")\n",
    "    \n",
    "wazna_funkcja_dla_szefa()\n"
   ]
  },
  {
   "cell_type": "markdown",
   "id": "3f41f212",
   "metadata": {},
   "source": [
    "W niektórych sytuacjach możemy chcieć by błąd przerwał wykonywanie programu, ale dopiero gdy np. zapiszemy jakieś dane.. następnie ponownie go zgłaszamy."
   ]
  },
  {
   "cell_type": "code",
   "execution_count": null,
   "id": "3f6b7595",
   "metadata": {},
   "outputs": [],
   "source": [
    "try:\n",
    "    do_something_dangerous()\n",
    "    \n",
    "except:\n",
    "    do_something_to_apologize()\n",
    "    \n",
    "    raise"
   ]
  },
  {
   "cell_type": "markdown",
   "id": "c6a7d5e9",
   "metadata": {},
   "source": [
    "Możemy również kożystać z instrukcji *assert* by wewołać specjalny rodzaj błędu, gdy dany warunek nie jest spełniony"
   ]
  },
  {
   "cell_type": "code",
   "execution_count": 27,
   "id": "61d11229",
   "metadata": {},
   "outputs": [
    {
     "ename": "AssertionError",
     "evalue": "tak, niestety..",
     "output_type": "error",
     "traceback": [
      "\u001b[1;31m---------------------------------------------------------------------------\u001b[0m",
      "\u001b[1;31mAssertionError\u001b[0m                            Traceback (most recent call last)",
      "Cell \u001b[1;32mIn[27], line 3\u001b[0m\n\u001b[0;32m      1\u001b[0m x \u001b[38;5;241m=\u001b[39m \u001b[38;5;124m\"\u001b[39m\u001b[38;5;124mniestety\u001b[39m\u001b[38;5;124m\"\u001b[39m\n\u001b[1;32m----> 3\u001b[0m \u001b[38;5;28;01massert\u001b[39;00m x \u001b[38;5;241m!=\u001b[39m \u001b[38;5;124m\"\u001b[39m\u001b[38;5;124mniestety\u001b[39m\u001b[38;5;124m\"\u001b[39m, \u001b[38;5;124m\"\u001b[39m\u001b[38;5;124mtak, niestety..\u001b[39m\u001b[38;5;124m\"\u001b[39m\n",
      "\u001b[1;31mAssertionError\u001b[0m: tak, niestety.."
     ]
    }
   ],
   "source": [
    "x = \"niestety\"\n",
    "\n",
    "assert x != \"niestety\", \"tak, niestety..\""
   ]
  },
  {
   "cell_type": "markdown",
   "id": "b6cc7c97",
   "metadata": {},
   "source": [
    "Trzy końcowe uwagi:\n",
    "* w ogólności należy unikać samego *except*, ponieważ wyłapie **wszystkie** błędy, nawet te, z którymi absolutnie trzeba coś zrobić\n",
    "* wyrażenie *except: pass* to jeszcze większe fe bo zwyczajnie **wszystkie** ignorujemy (np. *KeyboardInterrupt*, *SystemExit*)\n",
    "* *raise* w bloku *except* również może budzić kontrowersje - co jeżeli *do_something_to_apologize* napotka na własny błąd? Bardziej wyrafinowane rozwiązania będą wymagać OOP"
   ]
  },
  {
   "cell_type": "markdown",
   "id": "734678d0",
   "metadata": {},
   "source": [
    "## Podstawowe operacje na plikach"
   ]
  },
  {
   "cell_type": "markdown",
   "id": "269bc3da",
   "metadata": {},
   "source": [
    "W celu otwierania / tworzenia nowych plików używamy wbudowaną funkcję *open*; jej najważniejsze argumenty to ścieżka do pliku oraz jednoliterowy kod trybu otwarcia."
   ]
  },
  {
   "cell_type": "markdown",
   "id": "2aa29e46",
   "metadata": {},
   "source": [
    "|||\n",
    "|--|:--|\n",
    "|'r'    |   open for reading (default)|\n",
    "|'w'     |  open for writing, truncating the file first|\n",
    "|'x'     |  create a new file and open it for writing|\n",
    "|'a'     |  open for writing, appending to the end of the file if it exists|\n",
    "|'b'     |  binary mode|\n",
    "|'t'     |  text mode (default)|\n",
    "|'+'     |  open a disk file for updating (reading and writing)|"
   ]
  },
  {
   "cell_type": "markdown",
   "id": "7105d9c1",
   "metadata": {},
   "source": [
    "UWAGA : po otwarciu pliku zawsze należy go zamknąć! Należy również wybrać właściwy tryb - inaczej dane w pliku mogą zostać skasowane..."
   ]
  },
  {
   "cell_type": "code",
   "execution_count": 36,
   "id": "19c6e97e",
   "metadata": {},
   "outputs": [
    {
     "name": "stdout",
     "output_type": "stream",
     "text": [
      "Witaj pamietniczku\n"
     ]
    }
   ],
   "source": [
    "fp = open('filename.txt', 'x')\n",
    "fp.write(\"Witaj pamietniczku\")\n",
    "fp.close()\n",
    "\n",
    "fp = open('filename.txt', 'r')\n",
    "data = fp.read()\n",
    "fp.close()\n",
    "print(data)"
   ]
  },
  {
   "cell_type": "markdown",
   "id": "89c0d345",
   "metadata": {},
   "source": [
    "Słowo kluczowe *with* ułatwia nam pracę z plikami"
   ]
  },
  {
   "cell_type": "code",
   "execution_count": 37,
   "id": "5255c305",
   "metadata": {},
   "outputs": [
    {
     "name": "stdout",
     "output_type": "stream",
     "text": [
      "Witaj pamietniczku\n"
     ]
    }
   ],
   "source": [
    "with open('filename.txt') as file:\n",
    "    print(file.read())"
   ]
  },
  {
   "cell_type": "markdown",
   "id": "eb56c141",
   "metadata": {},
   "source": [
    "Nasze działanie przypomina wtedy bardziej.."
   ]
  },
  {
   "cell_type": "code",
   "execution_count": 38,
   "id": "a0d5b3f7",
   "metadata": {},
   "outputs": [],
   "source": [
    "try:\n",
    "    file = open('filename.txt')\n",
    "    file.read()\n",
    "    \n",
    "finally:\n",
    "    file.close()"
   ]
  },
  {
   "cell_type": "markdown",
   "id": "7487f241",
   "metadata": {},
   "source": [
    "Metody *readlines* oraz *readline* dają nam dodatkową kontrolę nad wczytywaniem pliku"
   ]
  },
  {
   "cell_type": "code",
   "execution_count": 86,
   "id": "92950493",
   "metadata": {},
   "outputs": [],
   "source": [
    "data = \"How do I reeeach these keeds\\nHOW DO I REACH THESE KEEEEEEDS!!\"\n",
    "\n",
    "with open('filename1.txt', 'x') as f:\n",
    "    f.write(data)"
   ]
  },
  {
   "cell_type": "code",
   "execution_count": 88,
   "id": "53e068e8",
   "metadata": {},
   "outputs": [
    {
     "name": "stdout",
     "output_type": "stream",
     "text": [
      "[['how', 'do', 'i', 'reeeach', 'these', 'keeds'], ['how', 'do', 'i', 'reach', 'these', 'keeeeeeds!!']]\n"
     ]
    }
   ],
   "source": [
    "with open('filename1.txt') as f:\n",
    "    read_back = [[w.lower() for w in line.strip().split()] for line in f.readlines() if line.startswith('H')]\n",
    "    \n",
    "print(read_back)"
   ]
  },
  {
   "cell_type": "markdown",
   "id": "a359790b",
   "metadata": {},
   "source": [
    "**Zadanie 1.** Napisz program, który wczytuje dane z pliku *data.fasta* i przekształca je w słownik {Accession : długość sewkwencji}."
   ]
  },
  {
   "cell_type": "markdown",
   "id": "07edc88d",
   "metadata": {},
   "source": [
    "**Zadanie 2.** Uzupełnij poniższy program generujący ewolucję zasady 110 ECA. Wynik zapisz do pliku w formacie PPM (ang. portable pixmap). Zasada ewolucji 1D automatu komórkowego polega na tym, że dla każdej komórki nowej generacji C<sub>i,j</sub> patrzymy na sąsiedztwo o promieniu 1 poprzedniej. Czyli wystarczy przekazać slice [i][j-1:j+2] do funkcji *bin2dec* a następnie wyszukać wartość dla tego sąsiedztwa (w reprezentacji dziesiętnej) w *rule_table*."
   ]
  },
  {
   "cell_type": "code",
   "execution_count": null,
   "id": "71794ea5",
   "metadata": {},
   "outputs": [],
   "source": [
    "def bin2dec(nhood_list):\n",
    "    return sum([b*2**(2-i) for i, b in enumerate(nhood_list)])\n",
    "\n",
    "rule_table = {7: 0, 6: 1, 5: 1, 4: 0, 3: 1, 2: 1, 1: 1, 0: 0}\n",
    "\n",
    "WIDTH, HEIGHT = ...\n",
    "\n",
    "grid = ...\n",
    "\n",
    "grid[0][WIDTH/2] = 1\n",
    "\n",
    "\n",
    "for ...\n",
    "    for ...\n",
    "        \n",
    "        grid[i+1][j] = ...\n",
    "\n",
    "# TODO: Zapisz grid do pliku w formacie .ppm (wystarczy poprzedzić go odpowiednim nagłówkiem)"
   ]
  },
  {
   "cell_type": "markdown",
   "id": "54c2844e",
   "metadata": {},
   "source": [
    "**Zadanie 3.** Napisz funkcję, która przyjmuje ścieżkę do pliku *.fasta* a zwraca słownik słowników {Accession : { zliczenia zasad azotowych (ATCG)}} zawartych w nim sekwencji DNA. Zadbaj o to, aby w przypadku wystąpienia problemów, z którąś z sekwencji, wszystkie obliczenia dla prawidłowych zostały wykonane. Identyfikatory niepoprawnych sekwencji zapisz do nowego pliku."
   ]
  }
 ],
 "metadata": {
  "kernelspec": {
   "display_name": "Python 3 (ipykernel)",
   "language": "python",
   "name": "python3"
  },
  "language_info": {
   "codemirror_mode": {
    "name": "ipython",
    "version": 3
   },
   "file_extension": ".py",
   "mimetype": "text/x-python",
   "name": "python",
   "nbconvert_exporter": "python",
   "pygments_lexer": "ipython3",
   "version": "3.11.4"
  }
 },
 "nbformat": 4,
 "nbformat_minor": 5
}
